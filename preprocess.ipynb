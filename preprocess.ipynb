{
 "cells": [
  {
   "cell_type": "code",
   "execution_count": null,
   "metadata": {},
   "outputs": [],
   "source": [
    "import sqlite3\n",
    "import pandas as pd\n",
    "import matplotlib.pyplot as plt\n",
    "import numpy as np\n",
    "from tqdm import tqdm"
   ]
  },
  {
   "cell_type": "code",
   "execution_count": null,
   "metadata": {},
   "outputs": [],
   "source": [
    "cx = sqlite3.connect(\"data/database.sqlite\")\n",
    "\n",
    "cs = cx.cursor()\n",
    "\n",
    "countries = pd.read_sql_query(\"SELECT * FROM COUNTRY\", con=cx)\n",
    "matches = pd.read_sql_query(\"SELECT * FROM MATCH\", con=cx)\n",
    "players = pd.read_sql_query(\"SELECT * FROM PLAYER\", con=cx)\n",
    "teams = pd.read_sql_query(\"SELECT * FROM TEAM\", con=cx)"
   ]
  },
  {
   "cell_type": "code",
   "execution_count": null,
   "metadata": {},
   "outputs": [],
   "source": [
    "teams.sample(10)"
   ]
  },
  {
   "cell_type": "code",
   "execution_count": null,
   "metadata": {},
   "outputs": [],
   "source": [
    "players.sample(10)"
   ]
  },
  {
   "cell_type": "code",
   "execution_count": null,
   "metadata": {},
   "outputs": [],
   "source": [
    "list(matches.columns)\n"
   ]
  },
  {
   "cell_type": "code",
   "execution_count": null,
   "metadata": {},
   "outputs": [],
   "source": [
    "matches.sample(10)\n"
   ]
  },
  {
   "cell_type": "code",
   "execution_count": null,
   "metadata": {},
   "outputs": [],
   "source": [
    "matches[\"date_month\"] = matches[\"date\"].apply(\n",
    "    lambda x: \"-\".join(x.split(\"-\")[:2]))\n",
    "n_matches_per_month = matches.groupby(\"date_month\").agg({\"id\": \"size\"})\n",
    "\n",
    "# plt.xticks()\n",
    "# plt.xticks(np.arange(9), list(range(2008, 2017)))\n",
    "fig, ax = plt.subplots()\n",
    "ax.scatter(n_matches_per_month.index,\n",
    "           n_matches_per_month[\"id\"], marker='.', c='b')\n",
    "for (i, l) in enumerate(ax.xaxis.get_ticklabels()):\n",
    "    if i % 12 != 0:\n",
    "        l.set_visible(False)\n",
    "    else:\n",
    "        l.set(rotation=45)\n",
    "\n",
    "ax.set_title(\"Number of matches per month across years\")\n",
    "ax.set_ylabel(\"# matches\")\n",
    "plt.savefig(\"viz/n_matches_accross_years.png\")\n",
    "\n"
   ]
  },
  {
   "cell_type": "code",
   "execution_count": null,
   "metadata": {},
   "outputs": [],
   "source": [
    "players_columns = [f\"home_player_{i}\" for i in range(1, 12)] + \\\n",
    "    [f\"away_player_{i}\" for i in range(1, 12)] + \\\n",
    "    [f\"home_player_X{i}\" for i in range(1, 12)] + \\\n",
    "    [f\"away_player_X{i}\" for i in range(1, 12)] + \\\n",
    "    [f\"home_player_Y{i}\" for i in range(1, 12)] + \\\n",
    "    [f\"away_player_Y{i}\" for i in range(1, 12)]\n",
    "matches[\"all_players\"] = matches[players_columns].apply(\n",
    "    lambda row: set([int(v) for v in row if not np.isnan(v) and not v < 12]), axis=1)\n",
    "\n",
    "matches[\"all_players\"].sample(10)"
   ]
  },
  {
   "cell_type": "code",
   "execution_count": null,
   "metadata": {},
   "outputs": [],
   "source": [
    "import os\n",
    "from pathlib import Path\n",
    "\n",
    "file_to_save = Path(\"data/processed/number_of_matches_per_players.csv\")\n",
    "if os.path.exists(file_to_save):\n",
    "    player_n_matches = pd.read_csv(file_to_save)\n",
    "else:\n",
    "    player_ids = []\n",
    "    n_matches = []\n",
    "    print(\"Counting number of matches per player([~2min])...\")\n",
    "    for i, p in tqdm(players.iterrows()):\n",
    "        player_id = p[\"id\"]\n",
    "        m = matches[\"all_players\"].apply(lambda se: player_id in se)\n",
    "        player_ids.append(player_id)\n",
    "        n_matches.append(matches[m].shape[0])\n",
    "    print(\"OK\")\n",
    "    player_n_matches = pd.DataFrame({\"id\": player_ids, \"n_matches\": n_matches})\n",
    "    player_n_matches = player_n_matches.join(players[[\"id\", \"player_name\"]], rsuffix=\"_r\") \\\n",
    "        .drop(\"id_r\", axis=1) \\\n",
    "        .sort_values(by=\"n_matches\", ascending=False)\n",
    "    file_to_save.parent.mkdir(exist_ok=True, parents=True)\n",
    "    player_n_matches.to_csv(file_to_save)\n",
    "    print(f\"Dataframe saved to {file_to_save} for further reuse.\")\n"
   ]
  },
  {
   "cell_type": "code",
   "execution_count": null,
   "metadata": {},
   "outputs": [],
   "source": [
    "N = 30\n",
    "fig, ax = plt.subplots()\n",
    "ax.bar(x=player_n_matches.head(N).player_name, height=player_n_matches.head(N).n_matches, width=0.5, color='b')\n",
    "ax.set_title(f\"Top {N} players by number of matches\")\n",
    "ax.set_ylabel(\"Total # matches\")\n",
    "for tick in ax.get_xticklabels():\n",
    "    tick.set_rotation(90)\n",
    "plt.tight_layout()\n",
    "plt.savefig(\"viz/number_of_matches_per_player.png\")\n"
   ]
  }
 ],
 "metadata": {
  "kernelspec": {
   "display_name": "venv",
   "language": "python",
   "name": "python3"
  },
  "language_info": {
   "codemirror_mode": {
    "name": "ipython",
    "version": 3
   },
   "file_extension": ".py",
   "mimetype": "text/x-python",
   "name": "python",
   "nbconvert_exporter": "python",
   "pygments_lexer": "ipython3",
   "version": "3.12.9"
  }
 },
 "nbformat": 4,
 "nbformat_minor": 2
}
