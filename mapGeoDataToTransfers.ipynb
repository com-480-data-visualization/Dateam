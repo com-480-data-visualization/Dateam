{
 "cells": [
  {
   "cell_type": "code",
   "execution_count": null,
   "id": "371840a1",
   "metadata": {},
   "outputs": [],
   "source": [
    "import pandas as pd"
   ]
  },
  {
   "cell_type": "code",
   "execution_count": null,
   "id": "0c5dacaf",
   "metadata": {},
   "outputs": [],
   "source": [
    "transfers = pd.read_json(\"web/src/assets/data/clean_transfers.json\")\n",
    "maps = pd.read_csv(\"web/src/assets/data/mapping/team_logo_mapping_geocoded.csv\")\n",
    "team_map = pd.read_csv(\"web/src/assets/data/mapping/teams_map.csv\")"
   ]
  },
  {
   "cell_type": "code",
   "execution_count": null,
   "id": "2be0dbf9",
   "metadata": {},
   "outputs": [],
   "source": [
    "# add geodata to from team\n",
    "tmp_df = pd.merge(transfers, maps[[\"transfers_name\", \"latitude\", \"longitude\"]], left_on=\"team_from\", right_on=\"transfers_name\", how=\"left\")\n",
    "tmp_df[\"latlon_from\"] = tmp_df[[\"latitude\", \"longitude\"]].apply(tuple, axis=1)\n",
    "tmp_df.drop(columns=[\"transfers_name\", \"latitude\", \"longitude\"], inplace=True)\n",
    "\n",
    "\n",
    "# add geodata to to team\n",
    "tmp_df2 = pd.merge(tmp_df, maps[[\"transfers_name\", \"latitude\", \"longitude\"]], left_on=\"team_to\", right_on=\"transfers_name\", how=\"left\")\n",
    "tmp_df2[\"latlon_to\"] = tmp_df2[[\"latitude\", \"longitude\"]].apply(tuple, axis=1)\n",
    "df = tmp_df2.drop(columns=[\"transfers_name\", \"latitude\", \"longitude\"])\n",
    "\n",
    "# save the results.\n",
    "df.to_json(\"web/src/assets/data/transfers_with_geodata.json\", orient=\"records\")"
   ]
  }
 ],
 "metadata": {
  "language_info": {
   "name": "python"
  }
 },
 "nbformat": 4,
 "nbformat_minor": 5
}
