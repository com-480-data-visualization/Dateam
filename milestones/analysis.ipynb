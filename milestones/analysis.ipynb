{
 "cells": [
  {
   "cell_type": "code",
   "execution_count": 3,
   "metadata": {},
   "outputs": [],
   "source": [
    "import os\n",
    "from pathlib import Path\n",
    "import sqlite3\n",
    "import pandas as pd\n",
    "import matplotlib.pyplot as plt\n",
    "import numpy as np\n",
    "from tqdm import tqdm"
   ]
  },
  {
   "cell_type": "markdown",
   "metadata": {},
   "source": [
    "# **European Soccer Dataset**"
   ]
  },
  {
   "cell_type": "code",
   "execution_count": 26,
   "metadata": {},
   "outputs": [
    {
     "name": "stdout",
     "output_type": "stream",
     "text": [
      "Tables in database:\n",
      "                name\n",
      "0    sqlite_sequence\n",
      "1  Player_Attributes\n",
      "2             Player\n",
      "3              Match\n",
      "4             League\n",
      "5            Country\n",
      "6               Team\n",
      "7    Team_Attributes\n"
     ]
    }
   ],
   "source": [
    "cx = sqlite3.connect(\"../data/database.sqlite\")\n",
    "\n",
    "cs = cx.cursor()\n",
    "\n",
    "countries = pd.read_sql_query(\"SELECT * FROM COUNTRY\", con=cx)\n",
    "matches = pd.read_sql_query(\"SELECT * FROM MATCH\", con=cx)\n",
    "players = pd.read_sql_query(\"SELECT * FROM PLAYER\", con=cx)\n",
    "teams = pd.read_sql_query(\"SELECT * FROM TEAM\", con=cx)\n",
    "\n",
    "query = \"SELECT name FROM sqlite_master WHERE type='table';\"\n",
    "tables = pd.read_sql_query(query, con=cx)\n",
    "\n",
    "print(\"Tables in database:\")\n",
    "print(tables)"
   ]
  },
  {
   "cell_type": "code",
   "execution_count": 27,
   "metadata": {},
   "outputs": [
    {
     "data": {
      "application/vnd.microsoft.datawrangler.viewer.v0+json": {
       "columns": [
        {
         "name": "index",
         "rawType": "int64",
         "type": "integer"
        },
        {
         "name": "id",
         "rawType": "int64",
         "type": "integer"
        },
        {
         "name": "team_api_id",
         "rawType": "int64",
         "type": "integer"
        },
        {
         "name": "team_fifa_api_id",
         "rawType": "float64",
         "type": "float"
        },
        {
         "name": "team_long_name",
         "rawType": "object",
         "type": "string"
        },
        {
         "name": "team_short_name",
         "rawType": "object",
         "type": "string"
        }
       ],
       "conversionMethod": "pd.DataFrame",
       "ref": "55120329-2f11-4a5a-aed1-8dbaa8bf43c5",
       "rows": [
        [
         "0",
         "1",
         "9987",
         "673.0",
         "KRC Genk",
         "GEN"
        ],
        [
         "1",
         "2",
         "9993",
         "675.0",
         "Beerschot AC",
         "BAC"
        ],
        [
         "2",
         "3",
         "10000",
         "15005.0",
         "SV Zulte-Waregem",
         "ZUL"
        ],
        [
         "3",
         "4",
         "9994",
         "2007.0",
         "Sporting Lokeren",
         "LOK"
        ],
        [
         "4",
         "5",
         "9984",
         "1750.0",
         "KSV Cercle Brugge",
         "CEB"
        ]
       ],
       "shape": {
        "columns": 5,
        "rows": 5
       }
      },
      "text/html": [
       "<div>\n",
       "<style scoped>\n",
       "    .dataframe tbody tr th:only-of-type {\n",
       "        vertical-align: middle;\n",
       "    }\n",
       "\n",
       "    .dataframe tbody tr th {\n",
       "        vertical-align: top;\n",
       "    }\n",
       "\n",
       "    .dataframe thead th {\n",
       "        text-align: right;\n",
       "    }\n",
       "</style>\n",
       "<table border=\"1\" class=\"dataframe\">\n",
       "  <thead>\n",
       "    <tr style=\"text-align: right;\">\n",
       "      <th></th>\n",
       "      <th>id</th>\n",
       "      <th>team_api_id</th>\n",
       "      <th>team_fifa_api_id</th>\n",
       "      <th>team_long_name</th>\n",
       "      <th>team_short_name</th>\n",
       "    </tr>\n",
       "  </thead>\n",
       "  <tbody>\n",
       "    <tr>\n",
       "      <th>0</th>\n",
       "      <td>1</td>\n",
       "      <td>9987</td>\n",
       "      <td>673.0</td>\n",
       "      <td>KRC Genk</td>\n",
       "      <td>GEN</td>\n",
       "    </tr>\n",
       "    <tr>\n",
       "      <th>1</th>\n",
       "      <td>2</td>\n",
       "      <td>9993</td>\n",
       "      <td>675.0</td>\n",
       "      <td>Beerschot AC</td>\n",
       "      <td>BAC</td>\n",
       "    </tr>\n",
       "    <tr>\n",
       "      <th>2</th>\n",
       "      <td>3</td>\n",
       "      <td>10000</td>\n",
       "      <td>15005.0</td>\n",
       "      <td>SV Zulte-Waregem</td>\n",
       "      <td>ZUL</td>\n",
       "    </tr>\n",
       "    <tr>\n",
       "      <th>3</th>\n",
       "      <td>4</td>\n",
       "      <td>9994</td>\n",
       "      <td>2007.0</td>\n",
       "      <td>Sporting Lokeren</td>\n",
       "      <td>LOK</td>\n",
       "    </tr>\n",
       "    <tr>\n",
       "      <th>4</th>\n",
       "      <td>5</td>\n",
       "      <td>9984</td>\n",
       "      <td>1750.0</td>\n",
       "      <td>KSV Cercle Brugge</td>\n",
       "      <td>CEB</td>\n",
       "    </tr>\n",
       "  </tbody>\n",
       "</table>\n",
       "</div>"
      ],
      "text/plain": [
       "   id  team_api_id  team_fifa_api_id     team_long_name team_short_name\n",
       "0   1         9987             673.0           KRC Genk             GEN\n",
       "1   2         9993             675.0       Beerschot AC             BAC\n",
       "2   3        10000           15005.0   SV Zulte-Waregem             ZUL\n",
       "3   4         9994            2007.0   Sporting Lokeren             LOK\n",
       "4   5         9984            1750.0  KSV Cercle Brugge             CEB"
      ]
     },
     "execution_count": 27,
     "metadata": {},
     "output_type": "execute_result"
    }
   ],
   "source": [
    "teams.head()"
   ]
  },
  {
   "cell_type": "code",
   "execution_count": 28,
   "metadata": {},
   "outputs": [
    {
     "data": {
      "application/vnd.microsoft.datawrangler.viewer.v0+json": {
       "columns": [
        {
         "name": "index",
         "rawType": "int64",
         "type": "integer"
        },
        {
         "name": "id",
         "rawType": "int64",
         "type": "integer"
        },
        {
         "name": "player_api_id",
         "rawType": "int64",
         "type": "integer"
        },
        {
         "name": "player_name",
         "rawType": "object",
         "type": "string"
        },
        {
         "name": "player_fifa_api_id",
         "rawType": "int64",
         "type": "integer"
        },
        {
         "name": "birthday",
         "rawType": "object",
         "type": "string"
        },
        {
         "name": "height",
         "rawType": "float64",
         "type": "float"
        },
        {
         "name": "weight",
         "rawType": "int64",
         "type": "integer"
        }
       ],
       "conversionMethod": "pd.DataFrame",
       "ref": "99213c96-6733-47c7-b20a-4607f920b287",
       "rows": [
        [
         "0",
         "1",
         "505942",
         "Aaron Appindangoye",
         "218353",
         "1992-02-29 00:00:00",
         "182.88",
         "187"
        ],
        [
         "1",
         "2",
         "155782",
         "Aaron Cresswell",
         "189615",
         "1989-12-15 00:00:00",
         "170.18",
         "146"
        ],
        [
         "2",
         "3",
         "162549",
         "Aaron Doran",
         "186170",
         "1991-05-13 00:00:00",
         "170.18",
         "163"
        ],
        [
         "3",
         "4",
         "30572",
         "Aaron Galindo",
         "140161",
         "1982-05-08 00:00:00",
         "182.88",
         "198"
        ],
        [
         "4",
         "5",
         "23780",
         "Aaron Hughes",
         "17725",
         "1979-11-08 00:00:00",
         "182.88",
         "154"
        ]
       ],
       "shape": {
        "columns": 7,
        "rows": 5
       }
      },
      "text/html": [
       "<div>\n",
       "<style scoped>\n",
       "    .dataframe tbody tr th:only-of-type {\n",
       "        vertical-align: middle;\n",
       "    }\n",
       "\n",
       "    .dataframe tbody tr th {\n",
       "        vertical-align: top;\n",
       "    }\n",
       "\n",
       "    .dataframe thead th {\n",
       "        text-align: right;\n",
       "    }\n",
       "</style>\n",
       "<table border=\"1\" class=\"dataframe\">\n",
       "  <thead>\n",
       "    <tr style=\"text-align: right;\">\n",
       "      <th></th>\n",
       "      <th>id</th>\n",
       "      <th>player_api_id</th>\n",
       "      <th>player_name</th>\n",
       "      <th>player_fifa_api_id</th>\n",
       "      <th>birthday</th>\n",
       "      <th>height</th>\n",
       "      <th>weight</th>\n",
       "    </tr>\n",
       "  </thead>\n",
       "  <tbody>\n",
       "    <tr>\n",
       "      <th>0</th>\n",
       "      <td>1</td>\n",
       "      <td>505942</td>\n",
       "      <td>Aaron Appindangoye</td>\n",
       "      <td>218353</td>\n",
       "      <td>1992-02-29 00:00:00</td>\n",
       "      <td>182.88</td>\n",
       "      <td>187</td>\n",
       "    </tr>\n",
       "    <tr>\n",
       "      <th>1</th>\n",
       "      <td>2</td>\n",
       "      <td>155782</td>\n",
       "      <td>Aaron Cresswell</td>\n",
       "      <td>189615</td>\n",
       "      <td>1989-12-15 00:00:00</td>\n",
       "      <td>170.18</td>\n",
       "      <td>146</td>\n",
       "    </tr>\n",
       "    <tr>\n",
       "      <th>2</th>\n",
       "      <td>3</td>\n",
       "      <td>162549</td>\n",
       "      <td>Aaron Doran</td>\n",
       "      <td>186170</td>\n",
       "      <td>1991-05-13 00:00:00</td>\n",
       "      <td>170.18</td>\n",
       "      <td>163</td>\n",
       "    </tr>\n",
       "    <tr>\n",
       "      <th>3</th>\n",
       "      <td>4</td>\n",
       "      <td>30572</td>\n",
       "      <td>Aaron Galindo</td>\n",
       "      <td>140161</td>\n",
       "      <td>1982-05-08 00:00:00</td>\n",
       "      <td>182.88</td>\n",
       "      <td>198</td>\n",
       "    </tr>\n",
       "    <tr>\n",
       "      <th>4</th>\n",
       "      <td>5</td>\n",
       "      <td>23780</td>\n",
       "      <td>Aaron Hughes</td>\n",
       "      <td>17725</td>\n",
       "      <td>1979-11-08 00:00:00</td>\n",
       "      <td>182.88</td>\n",
       "      <td>154</td>\n",
       "    </tr>\n",
       "  </tbody>\n",
       "</table>\n",
       "</div>"
      ],
      "text/plain": [
       "   id  player_api_id         player_name  player_fifa_api_id  \\\n",
       "0   1         505942  Aaron Appindangoye              218353   \n",
       "1   2         155782     Aaron Cresswell              189615   \n",
       "2   3         162549         Aaron Doran              186170   \n",
       "3   4          30572       Aaron Galindo              140161   \n",
       "4   5          23780        Aaron Hughes               17725   \n",
       "\n",
       "              birthday  height  weight  \n",
       "0  1992-02-29 00:00:00  182.88     187  \n",
       "1  1989-12-15 00:00:00  170.18     146  \n",
       "2  1991-05-13 00:00:00  170.18     163  \n",
       "3  1982-05-08 00:00:00  182.88     198  \n",
       "4  1979-11-08 00:00:00  182.88     154  "
      ]
     },
     "execution_count": 28,
     "metadata": {},
     "output_type": "execute_result"
    }
   ],
   "source": [
    "players.head()"
   ]
  },
  {
   "cell_type": "code",
   "execution_count": 29,
   "metadata": {},
   "outputs": [
    {
     "name": "stdout",
     "output_type": "stream",
     "text": [
      "columns of matches table: id | country_id | league_id | season | stage | date | match_api_id | home_team_api_id | away_team_api_id | home_team_goal | away_team_goal | home_player_X1 | home_player_X2 | home_player_X3 | home_player_X4 | home_player_X5 | home_player_X6 | home_player_X7 | home_player_X8 | home_player_X9 | home_player_X10 | home_player_X11 | away_player_X1 | away_player_X2 | away_player_X3 | away_player_X4 | away_player_X5 | away_player_X6 | away_player_X7 | away_player_X8 | away_player_X9 | away_player_X10 | away_player_X11 | home_player_Y1 | home_player_Y2 | home_player_Y3 | home_player_Y4 | home_player_Y5 | home_player_Y6 | home_player_Y7 | home_player_Y8 | home_player_Y9 | home_player_Y10 | home_player_Y11 | away_player_Y1 | away_player_Y2 | away_player_Y3 | away_player_Y4 | away_player_Y5 | away_player_Y6 | away_player_Y7 | away_player_Y8 | away_player_Y9 | away_player_Y10 | away_player_Y11 | home_player_1 | home_player_2 | home_player_3 | home_player_4 | home_player_5 | home_player_6 | home_player_7 | home_player_8 | home_player_9 | home_player_10 | home_player_11 | away_player_1 | away_player_2 | away_player_3 | away_player_4 | away_player_5 | away_player_6 | away_player_7 | away_player_8 | away_player_9 | away_player_10 | away_player_11 | goal | shoton | shotoff | foulcommit | card | cross | corner | possession | B365H | B365D | B365A | BWH | BWD | BWA | IWH | IWD | IWA | LBH | LBD | LBA | PSH | PSD | PSA | WHH | WHD | WHA | SJH | SJD | SJA | VCH | VCD | VCA | GBH | GBD | GBA | BSH | BSD | BSA\n"
     ]
    },
    {
     "data": {
      "application/vnd.microsoft.datawrangler.viewer.v0+json": {
       "columns": [
        {
         "name": "index",
         "rawType": "int64",
         "type": "integer"
        },
        {
         "name": "id",
         "rawType": "int64",
         "type": "integer"
        },
        {
         "name": "country_id",
         "rawType": "int64",
         "type": "integer"
        },
        {
         "name": "league_id",
         "rawType": "int64",
         "type": "integer"
        },
        {
         "name": "season",
         "rawType": "object",
         "type": "string"
        },
        {
         "name": "stage",
         "rawType": "int64",
         "type": "integer"
        },
        {
         "name": "date",
         "rawType": "object",
         "type": "string"
        },
        {
         "name": "match_api_id",
         "rawType": "int64",
         "type": "integer"
        },
        {
         "name": "home_team_api_id",
         "rawType": "int64",
         "type": "integer"
        },
        {
         "name": "away_team_api_id",
         "rawType": "int64",
         "type": "integer"
        },
        {
         "name": "home_team_goal",
         "rawType": "int64",
         "type": "integer"
        },
        {
         "name": "away_team_goal",
         "rawType": "int64",
         "type": "integer"
        },
        {
         "name": "home_player_X1",
         "rawType": "float64",
         "type": "float"
        },
        {
         "name": "home_player_X2",
         "rawType": "float64",
         "type": "float"
        },
        {
         "name": "home_player_X3",
         "rawType": "float64",
         "type": "float"
        },
        {
         "name": "home_player_X4",
         "rawType": "float64",
         "type": "float"
        },
        {
         "name": "home_player_X5",
         "rawType": "float64",
         "type": "float"
        },
        {
         "name": "home_player_X6",
         "rawType": "float64",
         "type": "float"
        },
        {
         "name": "home_player_X7",
         "rawType": "float64",
         "type": "float"
        },
        {
         "name": "home_player_X8",
         "rawType": "float64",
         "type": "float"
        },
        {
         "name": "home_player_X9",
         "rawType": "float64",
         "type": "float"
        },
        {
         "name": "home_player_X10",
         "rawType": "float64",
         "type": "float"
        },
        {
         "name": "home_player_X11",
         "rawType": "float64",
         "type": "float"
        },
        {
         "name": "away_player_X1",
         "rawType": "float64",
         "type": "float"
        },
        {
         "name": "away_player_X2",
         "rawType": "float64",
         "type": "float"
        },
        {
         "name": "away_player_X3",
         "rawType": "float64",
         "type": "float"
        },
        {
         "name": "away_player_X4",
         "rawType": "float64",
         "type": "float"
        },
        {
         "name": "away_player_X5",
         "rawType": "float64",
         "type": "float"
        },
        {
         "name": "away_player_X6",
         "rawType": "float64",
         "type": "float"
        },
        {
         "name": "away_player_X7",
         "rawType": "float64",
         "type": "float"
        },
        {
         "name": "away_player_X8",
         "rawType": "float64",
         "type": "float"
        },
        {
         "name": "away_player_X9",
         "rawType": "float64",
         "type": "float"
        },
        {
         "name": "away_player_X10",
         "rawType": "float64",
         "type": "float"
        },
        {
         "name": "away_player_X11",
         "rawType": "float64",
         "type": "float"
        },
        {
         "name": "home_player_Y1",
         "rawType": "float64",
         "type": "float"
        },
        {
         "name": "home_player_Y2",
         "rawType": "float64",
         "type": "float"
        },
        {
         "name": "home_player_Y3",
         "rawType": "float64",
         "type": "float"
        },
        {
         "name": "home_player_Y4",
         "rawType": "float64",
         "type": "float"
        },
        {
         "name": "home_player_Y5",
         "rawType": "float64",
         "type": "float"
        },
        {
         "name": "home_player_Y6",
         "rawType": "float64",
         "type": "float"
        },
        {
         "name": "home_player_Y7",
         "rawType": "float64",
         "type": "float"
        },
        {
         "name": "home_player_Y8",
         "rawType": "float64",
         "type": "float"
        },
        {
         "name": "home_player_Y9",
         "rawType": "float64",
         "type": "float"
        },
        {
         "name": "home_player_Y10",
         "rawType": "float64",
         "type": "float"
        },
        {
         "name": "home_player_Y11",
         "rawType": "float64",
         "type": "float"
        },
        {
         "name": "away_player_Y1",
         "rawType": "float64",
         "type": "float"
        },
        {
         "name": "away_player_Y2",
         "rawType": "float64",
         "type": "float"
        },
        {
         "name": "away_player_Y3",
         "rawType": "float64",
         "type": "float"
        },
        {
         "name": "away_player_Y4",
         "rawType": "float64",
         "type": "float"
        },
        {
         "name": "away_player_Y5",
         "rawType": "float64",
         "type": "float"
        },
        {
         "name": "away_player_Y6",
         "rawType": "float64",
         "type": "float"
        },
        {
         "name": "away_player_Y7",
         "rawType": "float64",
         "type": "float"
        },
        {
         "name": "away_player_Y8",
         "rawType": "float64",
         "type": "float"
        },
        {
         "name": "away_player_Y9",
         "rawType": "float64",
         "type": "float"
        },
        {
         "name": "away_player_Y10",
         "rawType": "float64",
         "type": "float"
        },
        {
         "name": "away_player_Y11",
         "rawType": "float64",
         "type": "float"
        },
        {
         "name": "home_player_1",
         "rawType": "float64",
         "type": "float"
        },
        {
         "name": "home_player_2",
         "rawType": "float64",
         "type": "float"
        },
        {
         "name": "home_player_3",
         "rawType": "float64",
         "type": "float"
        },
        {
         "name": "home_player_4",
         "rawType": "float64",
         "type": "float"
        },
        {
         "name": "home_player_5",
         "rawType": "float64",
         "type": "float"
        },
        {
         "name": "home_player_6",
         "rawType": "float64",
         "type": "float"
        },
        {
         "name": "home_player_7",
         "rawType": "float64",
         "type": "float"
        },
        {
         "name": "home_player_8",
         "rawType": "float64",
         "type": "float"
        },
        {
         "name": "home_player_9",
         "rawType": "float64",
         "type": "float"
        },
        {
         "name": "home_player_10",
         "rawType": "float64",
         "type": "float"
        },
        {
         "name": "home_player_11",
         "rawType": "float64",
         "type": "float"
        },
        {
         "name": "away_player_1",
         "rawType": "float64",
         "type": "float"
        },
        {
         "name": "away_player_2",
         "rawType": "float64",
         "type": "float"
        },
        {
         "name": "away_player_3",
         "rawType": "float64",
         "type": "float"
        },
        {
         "name": "away_player_4",
         "rawType": "float64",
         "type": "float"
        },
        {
         "name": "away_player_5",
         "rawType": "float64",
         "type": "float"
        },
        {
         "name": "away_player_6",
         "rawType": "float64",
         "type": "float"
        },
        {
         "name": "away_player_7",
         "rawType": "float64",
         "type": "float"
        },
        {
         "name": "away_player_8",
         "rawType": "float64",
         "type": "float"
        },
        {
         "name": "away_player_9",
         "rawType": "float64",
         "type": "float"
        },
        {
         "name": "away_player_10",
         "rawType": "float64",
         "type": "float"
        },
        {
         "name": "away_player_11",
         "rawType": "float64",
         "type": "float"
        },
        {
         "name": "goal",
         "rawType": "object",
         "type": "unknown"
        },
        {
         "name": "shoton",
         "rawType": "object",
         "type": "unknown"
        },
        {
         "name": "shotoff",
         "rawType": "object",
         "type": "unknown"
        },
        {
         "name": "foulcommit",
         "rawType": "object",
         "type": "unknown"
        },
        {
         "name": "card",
         "rawType": "object",
         "type": "unknown"
        },
        {
         "name": "cross",
         "rawType": "object",
         "type": "unknown"
        },
        {
         "name": "corner",
         "rawType": "object",
         "type": "unknown"
        },
        {
         "name": "possession",
         "rawType": "object",
         "type": "unknown"
        },
        {
         "name": "B365H",
         "rawType": "float64",
         "type": "float"
        },
        {
         "name": "B365D",
         "rawType": "float64",
         "type": "float"
        },
        {
         "name": "B365A",
         "rawType": "float64",
         "type": "float"
        },
        {
         "name": "BWH",
         "rawType": "float64",
         "type": "float"
        },
        {
         "name": "BWD",
         "rawType": "float64",
         "type": "float"
        },
        {
         "name": "BWA",
         "rawType": "float64",
         "type": "float"
        },
        {
         "name": "IWH",
         "rawType": "float64",
         "type": "float"
        },
        {
         "name": "IWD",
         "rawType": "float64",
         "type": "float"
        },
        {
         "name": "IWA",
         "rawType": "float64",
         "type": "float"
        },
        {
         "name": "LBH",
         "rawType": "float64",
         "type": "float"
        },
        {
         "name": "LBD",
         "rawType": "float64",
         "type": "float"
        },
        {
         "name": "LBA",
         "rawType": "float64",
         "type": "float"
        },
        {
         "name": "PSH",
         "rawType": "float64",
         "type": "float"
        },
        {
         "name": "PSD",
         "rawType": "float64",
         "type": "float"
        },
        {
         "name": "PSA",
         "rawType": "float64",
         "type": "float"
        },
        {
         "name": "WHH",
         "rawType": "float64",
         "type": "float"
        },
        {
         "name": "WHD",
         "rawType": "float64",
         "type": "float"
        },
        {
         "name": "WHA",
         "rawType": "float64",
         "type": "float"
        },
        {
         "name": "SJH",
         "rawType": "float64",
         "type": "float"
        },
        {
         "name": "SJD",
         "rawType": "float64",
         "type": "float"
        },
        {
         "name": "SJA",
         "rawType": "float64",
         "type": "float"
        },
        {
         "name": "VCH",
         "rawType": "float64",
         "type": "float"
        },
        {
         "name": "VCD",
         "rawType": "float64",
         "type": "float"
        },
        {
         "name": "VCA",
         "rawType": "float64",
         "type": "float"
        },
        {
         "name": "GBH",
         "rawType": "float64",
         "type": "float"
        },
        {
         "name": "GBD",
         "rawType": "float64",
         "type": "float"
        },
        {
         "name": "GBA",
         "rawType": "float64",
         "type": "float"
        },
        {
         "name": "BSH",
         "rawType": "float64",
         "type": "float"
        },
        {
         "name": "BSD",
         "rawType": "float64",
         "type": "float"
        },
        {
         "name": "BSA",
         "rawType": "float64",
         "type": "float"
        }
       ],
       "conversionMethod": "pd.DataFrame",
       "ref": "6f5752e0-af1d-43fd-a564-c40fc98c49ec",
       "rows": [
        [
         "0",
         "1",
         "1",
         "1",
         "2008/2009",
         "1",
         "2008-08-17 00:00:00",
         "492473",
         "9987",
         "9993",
         "1",
         "1",
         null,
         null,
         null,
         null,
         null,
         null,
         null,
         null,
         null,
         null,
         null,
         null,
         null,
         null,
         null,
         null,
         null,
         null,
         null,
         null,
         null,
         null,
         null,
         null,
         null,
         null,
         null,
         null,
         null,
         null,
         null,
         null,
         null,
         null,
         null,
         null,
         null,
         null,
         null,
         null,
         null,
         null,
         null,
         null,
         null,
         null,
         null,
         null,
         null,
         null,
         null,
         null,
         null,
         null,
         null,
         null,
         null,
         null,
         null,
         null,
         null,
         null,
         null,
         null,
         null,
         null,
         null,
         null,
         null,
         null,
         null,
         null,
         null,
         null,
         "1.73",
         "3.4",
         "5.0",
         "1.75",
         "3.35",
         "4.2",
         "1.85",
         "3.2",
         "3.5",
         "1.8",
         "3.3",
         "3.75",
         null,
         null,
         null,
         "1.7",
         "3.3",
         "4.33",
         "1.9",
         "3.3",
         "4.0",
         "1.65",
         "3.4",
         "4.5",
         "1.78",
         "3.25",
         "4.0",
         "1.73",
         "3.4",
         "4.2"
        ],
        [
         "1",
         "2",
         "1",
         "1",
         "2008/2009",
         "1",
         "2008-08-16 00:00:00",
         "492474",
         "10000",
         "9994",
         "0",
         "0",
         null,
         null,
         null,
         null,
         null,
         null,
         null,
         null,
         null,
         null,
         null,
         null,
         null,
         null,
         null,
         null,
         null,
         null,
         null,
         null,
         null,
         null,
         null,
         null,
         null,
         null,
         null,
         null,
         null,
         null,
         null,
         null,
         null,
         null,
         null,
         null,
         null,
         null,
         null,
         null,
         null,
         null,
         null,
         null,
         null,
         null,
         null,
         null,
         null,
         null,
         null,
         null,
         null,
         null,
         null,
         null,
         null,
         null,
         null,
         null,
         null,
         null,
         null,
         null,
         null,
         null,
         null,
         null,
         null,
         null,
         null,
         null,
         null,
         null,
         "1.95",
         "3.2",
         "3.6",
         "1.8",
         "3.3",
         "3.95",
         "1.9",
         "3.2",
         "3.5",
         "1.9",
         "3.2",
         "3.5",
         null,
         null,
         null,
         "1.83",
         "3.3",
         "3.6",
         "1.95",
         "3.3",
         "3.8",
         "2.0",
         "3.25",
         "3.25",
         "1.85",
         "3.25",
         "3.75",
         "1.91",
         "3.25",
         "3.6"
        ],
        [
         "2",
         "3",
         "1",
         "1",
         "2008/2009",
         "1",
         "2008-08-16 00:00:00",
         "492475",
         "9984",
         "8635",
         "0",
         "3",
         null,
         null,
         null,
         null,
         null,
         null,
         null,
         null,
         null,
         null,
         null,
         null,
         null,
         null,
         null,
         null,
         null,
         null,
         null,
         null,
         null,
         null,
         null,
         null,
         null,
         null,
         null,
         null,
         null,
         null,
         null,
         null,
         null,
         null,
         null,
         null,
         null,
         null,
         null,
         null,
         null,
         null,
         null,
         null,
         null,
         null,
         null,
         null,
         null,
         null,
         null,
         null,
         null,
         null,
         null,
         null,
         null,
         null,
         null,
         null,
         null,
         null,
         null,
         null,
         null,
         null,
         null,
         null,
         null,
         null,
         null,
         null,
         null,
         null,
         "2.38",
         "3.3",
         "2.75",
         "2.4",
         "3.3",
         "2.55",
         "2.6",
         "3.1",
         "2.3",
         "2.5",
         "3.2",
         "2.5",
         null,
         null,
         null,
         "2.5",
         "3.25",
         "2.4",
         "2.63",
         "3.3",
         "2.5",
         "2.35",
         "3.25",
         "2.65",
         "2.5",
         "3.2",
         "2.5",
         "2.3",
         "3.2",
         "2.75"
        ],
        [
         "3",
         "4",
         "1",
         "1",
         "2008/2009",
         "1",
         "2008-08-17 00:00:00",
         "492476",
         "9991",
         "9998",
         "5",
         "0",
         null,
         null,
         null,
         null,
         null,
         null,
         null,
         null,
         null,
         null,
         null,
         null,
         null,
         null,
         null,
         null,
         null,
         null,
         null,
         null,
         null,
         null,
         null,
         null,
         null,
         null,
         null,
         null,
         null,
         null,
         null,
         null,
         null,
         null,
         null,
         null,
         null,
         null,
         null,
         null,
         null,
         null,
         null,
         null,
         null,
         null,
         null,
         null,
         null,
         null,
         null,
         null,
         null,
         null,
         null,
         null,
         null,
         null,
         null,
         null,
         null,
         null,
         null,
         null,
         null,
         null,
         null,
         null,
         null,
         null,
         null,
         null,
         null,
         null,
         "1.44",
         "3.75",
         "7.5",
         "1.4",
         "4.0",
         "6.8",
         "1.4",
         "3.9",
         "6.0",
         "1.44",
         "3.6",
         "6.5",
         null,
         null,
         null,
         "1.44",
         "3.75",
         "6.0",
         "1.44",
         "4.0",
         "7.5",
         "1.45",
         "3.75",
         "6.5",
         "1.5",
         "3.75",
         "5.5",
         "1.44",
         "3.75",
         "6.5"
        ],
        [
         "4",
         "5",
         "1",
         "1",
         "2008/2009",
         "1",
         "2008-08-16 00:00:00",
         "492477",
         "7947",
         "9985",
         "1",
         "3",
         null,
         null,
         null,
         null,
         null,
         null,
         null,
         null,
         null,
         null,
         null,
         null,
         null,
         null,
         null,
         null,
         null,
         null,
         null,
         null,
         null,
         null,
         null,
         null,
         null,
         null,
         null,
         null,
         null,
         null,
         null,
         null,
         null,
         null,
         null,
         null,
         null,
         null,
         null,
         null,
         null,
         null,
         null,
         null,
         null,
         null,
         null,
         null,
         null,
         null,
         null,
         null,
         null,
         null,
         null,
         null,
         null,
         null,
         null,
         null,
         null,
         null,
         null,
         null,
         null,
         null,
         null,
         null,
         null,
         null,
         null,
         null,
         null,
         null,
         "5.0",
         "3.5",
         "1.65",
         "5.0",
         "3.5",
         "1.6",
         "4.0",
         "3.3",
         "1.7",
         "4.0",
         "3.4",
         "1.72",
         null,
         null,
         null,
         "4.2",
         "3.4",
         "1.7",
         "4.5",
         "3.5",
         "1.73",
         "4.5",
         "3.4",
         "1.65",
         "4.5",
         "3.5",
         "1.65",
         "4.75",
         "3.3",
         "1.67"
        ]
       ],
       "shape": {
        "columns": 115,
        "rows": 5
       }
      },
      "text/html": [
       "<div>\n",
       "<style scoped>\n",
       "    .dataframe tbody tr th:only-of-type {\n",
       "        vertical-align: middle;\n",
       "    }\n",
       "\n",
       "    .dataframe tbody tr th {\n",
       "        vertical-align: top;\n",
       "    }\n",
       "\n",
       "    .dataframe thead th {\n",
       "        text-align: right;\n",
       "    }\n",
       "</style>\n",
       "<table border=\"1\" class=\"dataframe\">\n",
       "  <thead>\n",
       "    <tr style=\"text-align: right;\">\n",
       "      <th></th>\n",
       "      <th>id</th>\n",
       "      <th>country_id</th>\n",
       "      <th>league_id</th>\n",
       "      <th>season</th>\n",
       "      <th>stage</th>\n",
       "      <th>date</th>\n",
       "      <th>match_api_id</th>\n",
       "      <th>home_team_api_id</th>\n",
       "      <th>away_team_api_id</th>\n",
       "      <th>home_team_goal</th>\n",
       "      <th>...</th>\n",
       "      <th>SJA</th>\n",
       "      <th>VCH</th>\n",
       "      <th>VCD</th>\n",
       "      <th>VCA</th>\n",
       "      <th>GBH</th>\n",
       "      <th>GBD</th>\n",
       "      <th>GBA</th>\n",
       "      <th>BSH</th>\n",
       "      <th>BSD</th>\n",
       "      <th>BSA</th>\n",
       "    </tr>\n",
       "  </thead>\n",
       "  <tbody>\n",
       "    <tr>\n",
       "      <th>0</th>\n",
       "      <td>1</td>\n",
       "      <td>1</td>\n",
       "      <td>1</td>\n",
       "      <td>2008/2009</td>\n",
       "      <td>1</td>\n",
       "      <td>2008-08-17 00:00:00</td>\n",
       "      <td>492473</td>\n",
       "      <td>9987</td>\n",
       "      <td>9993</td>\n",
       "      <td>1</td>\n",
       "      <td>...</td>\n",
       "      <td>4.00</td>\n",
       "      <td>1.65</td>\n",
       "      <td>3.40</td>\n",
       "      <td>4.50</td>\n",
       "      <td>1.78</td>\n",
       "      <td>3.25</td>\n",
       "      <td>4.00</td>\n",
       "      <td>1.73</td>\n",
       "      <td>3.40</td>\n",
       "      <td>4.20</td>\n",
       "    </tr>\n",
       "    <tr>\n",
       "      <th>1</th>\n",
       "      <td>2</td>\n",
       "      <td>1</td>\n",
       "      <td>1</td>\n",
       "      <td>2008/2009</td>\n",
       "      <td>1</td>\n",
       "      <td>2008-08-16 00:00:00</td>\n",
       "      <td>492474</td>\n",
       "      <td>10000</td>\n",
       "      <td>9994</td>\n",
       "      <td>0</td>\n",
       "      <td>...</td>\n",
       "      <td>3.80</td>\n",
       "      <td>2.00</td>\n",
       "      <td>3.25</td>\n",
       "      <td>3.25</td>\n",
       "      <td>1.85</td>\n",
       "      <td>3.25</td>\n",
       "      <td>3.75</td>\n",
       "      <td>1.91</td>\n",
       "      <td>3.25</td>\n",
       "      <td>3.60</td>\n",
       "    </tr>\n",
       "    <tr>\n",
       "      <th>2</th>\n",
       "      <td>3</td>\n",
       "      <td>1</td>\n",
       "      <td>1</td>\n",
       "      <td>2008/2009</td>\n",
       "      <td>1</td>\n",
       "      <td>2008-08-16 00:00:00</td>\n",
       "      <td>492475</td>\n",
       "      <td>9984</td>\n",
       "      <td>8635</td>\n",
       "      <td>0</td>\n",
       "      <td>...</td>\n",
       "      <td>2.50</td>\n",
       "      <td>2.35</td>\n",
       "      <td>3.25</td>\n",
       "      <td>2.65</td>\n",
       "      <td>2.50</td>\n",
       "      <td>3.20</td>\n",
       "      <td>2.50</td>\n",
       "      <td>2.30</td>\n",
       "      <td>3.20</td>\n",
       "      <td>2.75</td>\n",
       "    </tr>\n",
       "    <tr>\n",
       "      <th>3</th>\n",
       "      <td>4</td>\n",
       "      <td>1</td>\n",
       "      <td>1</td>\n",
       "      <td>2008/2009</td>\n",
       "      <td>1</td>\n",
       "      <td>2008-08-17 00:00:00</td>\n",
       "      <td>492476</td>\n",
       "      <td>9991</td>\n",
       "      <td>9998</td>\n",
       "      <td>5</td>\n",
       "      <td>...</td>\n",
       "      <td>7.50</td>\n",
       "      <td>1.45</td>\n",
       "      <td>3.75</td>\n",
       "      <td>6.50</td>\n",
       "      <td>1.50</td>\n",
       "      <td>3.75</td>\n",
       "      <td>5.50</td>\n",
       "      <td>1.44</td>\n",
       "      <td>3.75</td>\n",
       "      <td>6.50</td>\n",
       "    </tr>\n",
       "    <tr>\n",
       "      <th>4</th>\n",
       "      <td>5</td>\n",
       "      <td>1</td>\n",
       "      <td>1</td>\n",
       "      <td>2008/2009</td>\n",
       "      <td>1</td>\n",
       "      <td>2008-08-16 00:00:00</td>\n",
       "      <td>492477</td>\n",
       "      <td>7947</td>\n",
       "      <td>9985</td>\n",
       "      <td>1</td>\n",
       "      <td>...</td>\n",
       "      <td>1.73</td>\n",
       "      <td>4.50</td>\n",
       "      <td>3.40</td>\n",
       "      <td>1.65</td>\n",
       "      <td>4.50</td>\n",
       "      <td>3.50</td>\n",
       "      <td>1.65</td>\n",
       "      <td>4.75</td>\n",
       "      <td>3.30</td>\n",
       "      <td>1.67</td>\n",
       "    </tr>\n",
       "  </tbody>\n",
       "</table>\n",
       "<p>5 rows × 115 columns</p>\n",
       "</div>"
      ],
      "text/plain": [
       "   id  country_id  league_id     season  stage                 date  \\\n",
       "0   1           1          1  2008/2009      1  2008-08-17 00:00:00   \n",
       "1   2           1          1  2008/2009      1  2008-08-16 00:00:00   \n",
       "2   3           1          1  2008/2009      1  2008-08-16 00:00:00   \n",
       "3   4           1          1  2008/2009      1  2008-08-17 00:00:00   \n",
       "4   5           1          1  2008/2009      1  2008-08-16 00:00:00   \n",
       "\n",
       "   match_api_id  home_team_api_id  away_team_api_id  home_team_goal  ...  \\\n",
       "0        492473              9987              9993               1  ...   \n",
       "1        492474             10000              9994               0  ...   \n",
       "2        492475              9984              8635               0  ...   \n",
       "3        492476              9991              9998               5  ...   \n",
       "4        492477              7947              9985               1  ...   \n",
       "\n",
       "    SJA   VCH   VCD   VCA   GBH   GBD   GBA   BSH   BSD   BSA  \n",
       "0  4.00  1.65  3.40  4.50  1.78  3.25  4.00  1.73  3.40  4.20  \n",
       "1  3.80  2.00  3.25  3.25  1.85  3.25  3.75  1.91  3.25  3.60  \n",
       "2  2.50  2.35  3.25  2.65  2.50  3.20  2.50  2.30  3.20  2.75  \n",
       "3  7.50  1.45  3.75  6.50  1.50  3.75  5.50  1.44  3.75  6.50  \n",
       "4  1.73  4.50  3.40  1.65  4.50  3.50  1.65  4.75  3.30  1.67  \n",
       "\n",
       "[5 rows x 115 columns]"
      ]
     },
     "execution_count": 29,
     "metadata": {},
     "output_type": "execute_result"
    }
   ],
   "source": [
    "print(\"columns of matches table:\", \" | \".join(matches.columns))\n",
    "matches.head()\n"
   ]
  },
  {
   "cell_type": "code",
   "execution_count": 64,
   "metadata": {},
   "outputs": [
    {
     "data": {
      "image/png": "[encoded data removed]",
      "text/plain": [
       "<Figure size 640x480 with 1 Axes>"
      ]
     },
     "metadata": {},
     "output_type": "display_data"
    }
   ],
   "source": [
    "matches[\"date_month\"] = matches[\"date\"].apply(\n",
    "    lambda x: \"-\".join(x.split(\"-\")[:2]))\n",
    "n_matches_per_month = matches.groupby(\"date_month\").agg({\"id\": \"size\"})\n",
    "\n",
    "# plt.xticks()\n",
    "# plt.xticks(np.arange(9), list(range(2008, 2017)))\n",
    "fig, ax = plt.subplots()\n",
    "ax.scatter(n_matches_per_month.index,\n",
    "           n_matches_per_month[\"id\"], marker='.', c='b')\n",
    "for (i, l) in enumerate(ax.xaxis.get_ticklabels()):\n",
    "    if i % 12 != 0:\n",
    "        l.set_visible(False)\n",
    "    else:\n",
    "        l.set(rotation=45)\n",
    "\n",
    "ax.set_title(\"Number of matches per month across years\")\n",
    "ax.set_ylabel(\"# matches\")\n",
    "plt.savefig(\"../plots/n_matches_accross_years.png\", bbox_inches=\"tight\")"
   ]
  },
  {
   "cell_type": "code",
   "execution_count": 33,
   "metadata": {},
   "outputs": [
    {
     "data": {
      "text/plain": [
       "25280    {33424, 120082, 25879, 181275, 176680, 26029, ...\n",
       "24452    {37510, 179083, 96652, 638105, 213916, 484906,...\n",
       "8884     {106369, 37381, 36878, 11027, 27284, 35988, 10...\n",
       "17135    {178435, 69252, 68744, 69258, 69266, 116756, 1...\n",
       "6488     {46468, 40709, 143752, 26376, 33420, 143757, 3...\n",
       "Name: all_players, dtype: object"
      ]
     },
     "execution_count": 33,
     "metadata": {},
     "output_type": "execute_result"
    }
   ],
   "source": [
    "players_columns = [f\"home_player_{i}\" for i in range(1, 12)] + \\\n",
    "    [f\"away_player_{i}\" for i in range(1, 12)] + \\\n",
    "    [f\"home_player_X{i}\" for i in range(1, 12)] + \\\n",
    "    [f\"away_player_X{i}\" for i in range(1, 12)] + \\\n",
    "    [f\"home_player_Y{i}\" for i in range(1, 12)] + \\\n",
    "    [f\"away_player_Y{i}\" for i in range(1, 12)]\n",
    "matches[\"all_players\"] = matches[players_columns].apply(\n",
    "    lambda row: set([int(v) for v in row if not np.isnan(v) and not v < 12]), axis=1)\n",
    "\n",
    "matches[\"all_players\"].sample(5)"
   ]
  },
  {
   "cell_type": "code",
   "execution_count": 34,
   "metadata": {},
   "outputs": [
    {
     "name": "stdout",
     "output_type": "stream",
     "text": [
      "Counting number of matches per player([~2min])...\n"
     ]
    },
    {
     "name": "stderr",
     "output_type": "stream",
     "text": [
      "11060it [02:28, 74.57it/s]"
     ]
    },
    {
     "name": "stdout",
     "output_type": "stream",
     "text": [
      "OK\n",
      "Dataframe saved to ..\\data\\processed\\number_of_matches_per_players.csv for further reuse.\n"
     ]
    },
    {
     "name": "stderr",
     "output_type": "stream",
     "text": [
      "\n"
     ]
    }
   ],
   "source": [
    "file_to_save = Path(\"../data/processed/number_of_matches_per_players.csv\")\n",
    "if os.path.exists(file_to_save):\n",
    "    player_n_matches = pd.read_csv(file_to_save)\n",
    "else:\n",
    "    player_ids = []\n",
    "    n_matches = []\n",
    "    print(\"Counting number of matches per player([~2min])...\")\n",
    "    for i, p in tqdm(players.iterrows()):\n",
    "        player_id = p[\"id\"]\n",
    "        m = matches[\"all_players\"].apply(lambda se: player_id in se)\n",
    "        player_ids.append(player_id)\n",
    "        n_matches.append(matches[m].shape[0])\n",
    "    print(\"OK\")\n",
    "    player_n_matches = pd.DataFrame({\"id\": player_ids, \"n_matches\": n_matches})\n",
    "    player_n_matches = player_n_matches.join(players[[\"id\", \"player_name\"]], rsuffix=\"_r\") \\\n",
    "        .drop(\"id_r\", axis=1) \\\n",
    "        .sort_values(by=\"n_matches\", ascending=False)\n",
    "    file_to_save.parent.mkdir(exist_ok=True, parents=True)\n",
    "    player_n_matches.to_csv(file_to_save)\n",
    "    print(f\"Dataframe saved to {file_to_save} for further reuse.\")\n"
   ]
  },
  {
   "cell_type": "code",
   "execution_count": 63,
   "metadata": {},
   "outputs": [
    {
     "data": {
      "image/png": "[encoded data removed]",
      "text/plain": [
       "<Figure size 640x480 with 1 Axes>"
      ]
     },
     "metadata": {},
     "output_type": "display_data"
    }
   ],
   "source": [
    "N = 30\n",
    "fig, ax = plt.subplots()\n",
    "ax.bar(x=player_n_matches.head(N).player_name, height=player_n_matches.head(N).n_matches, width=0.5, color='b')\n",
    "ax.set_title(f\"Top {N} players by number of matches\")\n",
    "ax.set_ylabel(\"Total # matches\")\n",
    "for tick in ax.get_xticklabels():\n",
    "    tick.set_rotation(90)\n",
    "plt.tight_layout()\n",
    "plt.savefig(\"../plots/number_of_matches_per_player.png\", bbox_inches=\"tight\")"
   ]
  },
  {
   "cell_type": "markdown",
   "metadata": {},
   "source": [
    "# **Football transfers Dataset**"
   ]
  },
  {
   "cell_type": "code",
   "execution_count": 4,
   "metadata": {},
   "outputs": [
    {
     "data": {
      "application/vnd.microsoft.datawrangler.viewer.v0+json": {
       "columns": [
        {
         "name": "index",
         "rawType": "int64",
         "type": "integer"
        },
        {
         "name": "Name",
         "rawType": "object",
         "type": "string"
        },
        {
         "name": "Position",
         "rawType": "object",
         "type": "string"
        },
        {
         "name": "Age",
         "rawType": "int64",
         "type": "integer"
        },
        {
         "name": "Team_from",
         "rawType": "object",
         "type": "string"
        },
        {
         "name": "League_from",
         "rawType": "object",
         "type": "string"
        },
        {
         "name": "Team_to",
         "rawType": "object",
         "type": "string"
        },
        {
         "name": "League_to",
         "rawType": "object",
         "type": "string"
        },
        {
         "name": "Season",
         "rawType": "object",
         "type": "string"
        },
        {
         "name": "Market_value",
         "rawType": "float64",
         "type": "float"
        },
        {
         "name": "Transfer_fee",
         "rawType": "int64",
         "type": "integer"
        }
       ],
       "conversionMethod": "pd.DataFrame",
       "ref": "9e722312-cb11-479f-877c-e3cf8636f533",
       "rows": [
        [
         "0",
         "Luís Figo",
         "Right Winger",
         "27",
         "FC Barcelona",
         "LaLiga",
         "Real Madrid",
         "LaLiga",
         "2000-2001",
         null,
         "60000000"
        ],
        [
         "1",
         "Hernán Crespo",
         "Centre-Forward",
         "25",
         "Parma",
         "Serie A",
         "Lazio",
         "Serie A",
         "2000-2001",
         null,
         "56810000"
        ],
        [
         "2",
         "Marc Overmars",
         "Left Winger",
         "27",
         "Arsenal",
         "Premier League",
         "FC Barcelona",
         "LaLiga",
         "2000-2001",
         null,
         "40000000"
        ],
        [
         "3",
         "Gabriel Batistuta",
         "Centre-Forward",
         "31",
         "Fiorentina",
         "Serie A",
         "AS Roma",
         "Serie A",
         "2000-2001",
         null,
         "36150000"
        ],
        [
         "4",
         "Nicolas Anelka",
         "Centre-Forward",
         "21",
         "Real Madrid",
         "LaLiga",
         "Paris SG",
         "Ligue 1",
         "2000-2001",
         null,
         "34500000"
        ]
       ],
       "shape": {
        "columns": 10,
        "rows": 5
       }
      },
      "text/html": [
       "<div>\n",
       "<style scoped>\n",
       "    .dataframe tbody tr th:only-of-type {\n",
       "        vertical-align: middle;\n",
       "    }\n",
       "\n",
       "    .dataframe tbody tr th {\n",
       "        vertical-align: top;\n",
       "    }\n",
       "\n",
       "    .dataframe thead th {\n",
       "        text-align: right;\n",
       "    }\n",
       "</style>\n",
       "<table border=\"1\" class=\"dataframe\">\n",
       "  <thead>\n",
       "    <tr style=\"text-align: right;\">\n",
       "      <th></th>\n",
       "      <th>Name</th>\n",
       "      <th>Position</th>\n",
       "      <th>Age</th>\n",
       "      <th>Team_from</th>\n",
       "      <th>League_from</th>\n",
       "      <th>Team_to</th>\n",
       "      <th>League_to</th>\n",
       "      <th>Season</th>\n",
       "      <th>Market_value</th>\n",
       "      <th>Transfer_fee</th>\n",
       "    </tr>\n",
       "  </thead>\n",
       "  <tbody>\n",
       "    <tr>\n",
       "      <th>0</th>\n",
       "      <td>Luís Figo</td>\n",
       "      <td>Right Winger</td>\n",
       "      <td>27</td>\n",
       "      <td>FC Barcelona</td>\n",
       "      <td>LaLiga</td>\n",
       "      <td>Real Madrid</td>\n",
       "      <td>LaLiga</td>\n",
       "      <td>2000-2001</td>\n",
       "      <td>NaN</td>\n",
       "      <td>60000000</td>\n",
       "    </tr>\n",
       "    <tr>\n",
       "      <th>1</th>\n",
       "      <td>Hernán Crespo</td>\n",
       "      <td>Centre-Forward</td>\n",
       "      <td>25</td>\n",
       "      <td>Parma</td>\n",
       "      <td>Serie A</td>\n",
       "      <td>Lazio</td>\n",
       "      <td>Serie A</td>\n",
       "      <td>2000-2001</td>\n",
       "      <td>NaN</td>\n",
       "      <td>56810000</td>\n",
       "    </tr>\n",
       "    <tr>\n",
       "      <th>2</th>\n",
       "      <td>Marc Overmars</td>\n",
       "      <td>Left Winger</td>\n",
       "      <td>27</td>\n",
       "      <td>Arsenal</td>\n",
       "      <td>Premier League</td>\n",
       "      <td>FC Barcelona</td>\n",
       "      <td>LaLiga</td>\n",
       "      <td>2000-2001</td>\n",
       "      <td>NaN</td>\n",
       "      <td>40000000</td>\n",
       "    </tr>\n",
       "    <tr>\n",
       "      <th>3</th>\n",
       "      <td>Gabriel Batistuta</td>\n",
       "      <td>Centre-Forward</td>\n",
       "      <td>31</td>\n",
       "      <td>Fiorentina</td>\n",
       "      <td>Serie A</td>\n",
       "      <td>AS Roma</td>\n",
       "      <td>Serie A</td>\n",
       "      <td>2000-2001</td>\n",
       "      <td>NaN</td>\n",
       "      <td>36150000</td>\n",
       "    </tr>\n",
       "    <tr>\n",
       "      <th>4</th>\n",
       "      <td>Nicolas Anelka</td>\n",
       "      <td>Centre-Forward</td>\n",
       "      <td>21</td>\n",
       "      <td>Real Madrid</td>\n",
       "      <td>LaLiga</td>\n",
       "      <td>Paris SG</td>\n",
       "      <td>Ligue 1</td>\n",
       "      <td>2000-2001</td>\n",
       "      <td>NaN</td>\n",
       "      <td>34500000</td>\n",
       "    </tr>\n",
       "  </tbody>\n",
       "</table>\n",
       "</div>"
      ],
      "text/plain": [
       "                Name        Position  Age     Team_from     League_from  \\\n",
       "0          Luís Figo    Right Winger   27  FC Barcelona          LaLiga   \n",
       "1      Hernán Crespo  Centre-Forward   25         Parma         Serie A   \n",
       "2      Marc Overmars     Left Winger   27       Arsenal  Premier League   \n",
       "3  Gabriel Batistuta  Centre-Forward   31    Fiorentina         Serie A   \n",
       "4     Nicolas Anelka  Centre-Forward   21   Real Madrid          LaLiga   \n",
       "\n",
       "        Team_to League_to     Season  Market_value  Transfer_fee  \n",
       "0   Real Madrid    LaLiga  2000-2001           NaN      60000000  \n",
       "1         Lazio   Serie A  2000-2001           NaN      56810000  \n",
       "2  FC Barcelona    LaLiga  2000-2001           NaN      40000000  \n",
       "3       AS Roma   Serie A  2000-2001           NaN      36150000  \n",
       "4      Paris SG   Ligue 1  2000-2001           NaN      34500000  "
      ]
     },
     "execution_count": 4,
     "metadata": {},
     "output_type": "execute_result"
    }
   ],
   "source": [
    "transfers =pd.read_csv(\"../data/transfers.csv\")\n",
    "\n",
    "transfers.head()"
   ]
  },
  {
   "cell_type": "code",
   "execution_count": 5,
   "metadata": {},
   "outputs": [
    {
     "data": {
      "image/png": "[encoded data removed]",
      "text/plain": [
       "<Figure size 800x500 with 1 Axes>"
      ]
     },
     "metadata": {},
     "output_type": "display_data"
    }
   ],
   "source": [
    "league_counts = pd.concat([transfers[\"League_from\"], transfers[\"League_to\"]]).value_counts()\n",
    "\n",
    "# Plotting\n",
    "plt.figure(figsize=(8, 5))\n",
    "league_counts[:10].plot(kind=\"bar\", color=\"teal\", alpha=0.7)\n",
    "plt.xlabel(\"League\")\n",
    "plt.ylabel(\"Number of Transfers\")\n",
    "plt.title(\"Top 10 Leagues by Number of Transfers (2000-2018)\")\n",
    "plt.xticks(rotation=45)\n",
    "plt.grid(axis=\"y\", linestyle=\"--\", alpha=0.7)\n",
    "plt.savefig(\"../plots/top_leagues_by_transfers.png\", bbox_inches=\"tight\")\n",
    "plt.show()"
   ]
  },
  {
   "cell_type": "code",
   "execution_count": 6,
   "metadata": {},
   "outputs": [
    {
     "data": {
      "image/png": "[encoded data removed]",
      "text/plain": [
       "<Figure size 800x500 with 1 Axes>"
      ]
     },
     "metadata": {},
     "output_type": "display_data"
    }
   ],
   "source": [
    "team_counts = pd.concat([transfers[\"Team_from\"], transfers[\"Team_to\"]]).value_counts()\n",
    "\n",
    "# Plotting\n",
    "plt.figure(figsize=(8, 5))\n",
    "team_counts[:20].plot(kind=\"bar\", color=\"gray\", alpha=0.7)\n",
    "plt.xlabel(\"Team\")\n",
    "plt.ylabel(\"Number of Transfers\")\n",
    "plt.title(\"Top 20 Teams by Number of Transfers (2000-2018)\")\n",
    "plt.xticks(rotation=45)\n",
    "plt.grid(axis=\"y\", linestyle=\"--\", alpha=0.7)\n",
    "plt.savefig(\"../plots/top_teams_by_transfers.png\", bbox_inches=\"tight\")\n",
    "plt.show()"
   ]
  },
  {
   "cell_type": "code",
   "execution_count": 7,
   "metadata": {},
   "outputs": [
    {
     "data": {
      "image/png": "[encoded data removed]",
      "text/plain": [
       "<Figure size 800x500 with 1 Axes>"
      ]
     },
     "metadata": {},
     "output_type": "display_data"
    }
   ],
   "source": [
    "season_mean_transfer_fee = transfers.groupby(\"Season\")[\"Transfer_fee\"].mean()\n",
    "\n",
    "plt.figure(figsize=(8, 5))\n",
    "season_mean_transfer_fee.plot(marker=\"o\", color=\"darkorange\", linestyle=\"-\")\n",
    "plt.xticks(range(len(season_mean_transfer_fee.index)))  \n",
    "plt.gca().set_xticklabels(season_mean_transfer_fee.index, rotation=45, ha=\"right\") \n",
    "plt.xlabel(\"Season\")\n",
    "plt.ylabel(\"Mean Transfer Fee (€)\")\n",
    "plt.title(\"Average Transfer Fee Per Season (2000-2018)\")\n",
    "plt.grid(axis=\"y\", linestyle=\"--\", alpha=0.7)\n",
    "plt.savefig(\"../plots/transfer_fee_per_season.png\", bbox_inches=\"tight\")\n",
    "plt.show()"
   ]
  },
  {
   "cell_type": "code",
   "execution_count": null,
   "metadata": {},
   "outputs": [],
   "source": []
  }
 ],
 "metadata": {
  "kernelspec": {
   "display_name": "ada",
   "language": "python",
   "name": "python3"
  },
  "language_info": {
   "codemirror_mode": {
    "name": "ipython",
    "version": 3
   },
   "file_extension": ".py",
   "mimetype": "text/x-python",
   "name": "python",
   "nbconvert_exporter": "python",
   "pygments_lexer": "ipython3",
   "version": "3.11.9"
  }
 },
 "nbformat": 4,
 "nbformat_minor": 2
}
